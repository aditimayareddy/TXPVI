{
 "cells": [
  {
   "cell_type": "markdown",
   "id": "b8372a90",
   "metadata": {},
   "source": [
    "# NYCDSA Python Project\n",
    "\n",
    "## Goal - Partisan Voter Index for Texas State Legislatures\n",
    "\n",
    "### Competencies\n",
    "- ~~Source 2022 adopted shapefiles~~\n",
    "    - ~~[TX State House](https://data.capitol.texas.gov/dataset/planh2316)~~\n",
    "    - ~~[TX Senate](https://data.capitol.texas.gov/dataset/plans2168)~~\n",
    "- ~~Source pre-redistricting shapefiles~~\n",
    "    - ~~[2011 TX State House](https://data.capitol.texas.gov/dataset/planh283)~~\n",
    "    - ~~[2011 TX Senate](https://data.capitol.texas.gov/dataset/plans148)~~\n",
    "- ~~Source precinct-level federal election returns data for 2016, 2018, 2020~~\n",
    "    - VEST + RDH\n",
    "- ~~Source precinct-level state election returns data for 2016, 2018, 2020~~\n",
    "    - VEST + RDH\n",
    "- Match precincts to NEW state legislative districts using precinct centroid\n",
    "    - ~~match 2016 SLDU with 2022 SLDU\n",
    "    - ~~match 2018 SLDU with 2022 SLDU~~\n",
    "    - ~~match 2020 SLDU with 2022 SLDU~~\n",
    "    \n",
    "    - ~~match 2016 SLDL with 2022 SLDL~~\n",
    "    - ~~match 2018 SLDL with 2022 SLDL~~\n",
    "    - ~~match 2020 SLDL with 2022 SLDL~~\n",
    "- ~~Drop races not being used from elections returns~~\n",
    "~~- Create a PVI metric(s) for new state legislative districts~~\n",
    "- Source data on which seats are open in the 2022 midterms, filing deadlines, historical open seats/competitiveness\n",
    "- Analyze differences in state leg election returns vs state wide vs federal (turnout, partisan lean)\n",
    "- Visualize in graphs and maps\n",
    "- Make recommendations about which data to use to predict partisan lean for upcoming downballot elections\n",
    "- Future work - matching census data to the election returns, expanding to more states, comparing BETWEEN states (do some states follow national trends in downballot races?), incorporating open seats vs incumbent seats (after filing deadlines pass!)\n"
   ]
  },
  {
   "cell_type": "markdown",
   "id": "aec7a71f",
   "metadata": {},
   "source": [
    "### Decision Points\n",
    "\n",
    "#### State to use\n",
    "| Contender | DB dem focus | SH      | SS    | Maps Enacted | Filing DL | 2016 | 2018 | 2020 | Shp new | shp old |\n",
    "|-----------|--------------|---------|-------|--------------|-----------|------|------|------|---------|---------|\n",
    "| Michigan  | Y            | 110/110 | 38/38 | Y            | 4/19/22   | Y    | Y    | Y    | Y       | Y       |\n",
    "| Oregon    | N            | 60/60   | 15/30 | Y            | 3/8/22    | Y    | Y    | Y    | Y       | Y       |\n",
    "| **Texas** | Y            | 150/150 | 31/31 | Y            | 12/13/21  | Y    | Y    | Y    | Y       | Y       |\n",
    "| Florida   | N            | 120/120 | 40/40 | Y            | 06/17/22  | Y    | Y    | Y    | Y       | Y       |\n",
    "\n",
    "\n",
    "#### Source of election returns data\n",
    "- **VEST**\n",
    "- MEDSL\n",
    "- RDH\n",
    "- Sec of State\n",
    "\n",
    "#### PVI Metrics\n",
    "- Cook PVI - partisan lean compared to baseline of national avg from last two presidential elections\n",
    "- Cook PVI for states - partisan lean compared to baseline of STATE avg from last two presidential elections\n",
    "- Adapted State Wide PVI - partisan lean per district compared to baseline of composite state official elections from last 2 elections\n",
    "\n",
    "#### Mapping packages/ gis formats\n",
    "- geopandas\n",
    "- folium OR plotly\n",
    "        "
   ]
  },
  {
   "cell_type": "markdown",
   "id": "5fb96788",
   "metadata": {},
   "source": [
    "# ETL\n",
    "\n",
    "\n",
    "\n",
    "### SHAPEFILES\n",
    "\n",
    "1. NEW_SENATE\n",
    "2. NEW_HOUSE\n",
    "\n",
    "### PRECINT RETURNS\n",
    "\n",
    "1. TX_2020\n",
    "2. TX_2018\n",
    "3. TX_2016\n",
    "\n"
   ]
  },
  {
   "cell_type": "markdown",
   "id": "8f6c5ecb",
   "metadata": {},
   "source": [
    "### Resources\n",
    "#### Mapping/Viz\n",
    "- [Colorbrewer](https://colorbrewer2.org/#type=qualitative&scheme=Set1&n=3)"
   ]
  },
  {
   "cell_type": "markdown",
   "id": "60faee04",
   "metadata": {},
   "source": [
    "#### Presentation format\n",
    "\n",
    "       Slides\n",
    "    1. Goal - Calculating a partisan voter index for Texas state legislature chambers\n",
    "    2. Who is this for?\n",
    "             - to inform journalism, research, students, citizenry, potential public servants, advocacy organizations, businesses\n",
    "        -CAMPAIGNING - Should I run for office in the future? Where?\n",
    "        -DONATION - Where does my campaign donation make the most impact?\n",
    "        -ISSUES -  Which political campaigns would be receptive to my lobbying efforts? Which constituencies would make most sense for media advertising etc?\n",
    "        -PARTICIPATION - Where do I want to live? Is there a campaign I'd be well suited to volunteer with?\n",
    "    3. What is Partisan lean?\n",
    "    3. Why downballot?\n",
    "    4. How partisan voter index would have been calculated in the past\n",
    "    5. 2020 Census and redistricting - timeline\n",
    "    6. Texas maps - side by side of old districts vs new districts\n",
    "    7. Matching old election returnsby precinct to new maps of 2022 legislative districts(map of voting precincts and new districts side by side)\n",
    "        - precinct centroid methodology\n",
    "    8. What election data we are using\n",
    "    8. Analyze differences in state leg election returns vs state wide vs federal for 2020 (turnout, partisan lean)\n",
    "    9. 3 ways to calculate PVI - which one makes most sense?\n",
    "    10. Side by side comparison of 3 PVI metrics applied to 2020 election (using 2018 and 2016 election data)\n",
    "    11. Chosen PVI metric applied for 2022 districts (using 2020 and 2018 election data)\n",
    "    12. Exploration of the breakdown - how many solid, likely, tossup, deadheat districts per chamber\n",
    "        - pie chart\n",
    "        - map of all\n",
    "        - map of the districts in the 2022 election\n",
    "    13. What CANT this be used for? + Limitations\n",
    "        - NOT a predictive tool, does not factor in incumbency, turnout differences betwween races, candidate background, campaign financing etc\n",
    "        - Cannot be used to compare to districts outside of the state\n",
    "    14. What CAN this be used for?\n",
    "        - to inform journalism, research, students, citizenry, potential public servants\n",
    "        -CAMPAIGNING - Should I run for office in the future? Where?\n",
    "        -DONATION - Where does my campaign donation make the most impact?\n",
    "        -ISSUES -  Which political campaigns would be receptive to my lobbying efforts?\n",
    "        -PARTICIPATION - Where do I want to live? Is there a campaign I'd be well suited to volunteer with?\n",
    "    15. Future work\n",
    "        PVI METRIC\n",
    "        - incorporate census population data, and analyze demographic differences\n",
    "        - accounting for differences in voter turnout\n",
    "        - accounting for differences in types of elections each year (eg. Governors race in 2018, but only 1 state-wide office election in 2018)\n",
    "        - adapting to other downballot elections - local races, school boards, mayoral, city council etc\n",
    "        - expanding to other states, and standardizing across them so a user could compare TX HD-1 to OR SD-4, and allocate resources accordingly based on relative lean in a national environment\n",
    "        - Validate 2020 election returns (pandemic time, mail in ballots, potential change in voter behavior etc)\n",
    "        - Update after 2022 midterms, to see how useful PVI metric is\n",
    "        - Possibly integrate with other tools - like climate score, voting records of representatives etc\n",
    "        - Possibly integrate with political tools to predict races - open seats, incumbency, campaign finance\n",
    "        - Possibly compare between states - do some states follow national trends in downballot races?\n",
    "    16. Data Sources\n",
    "        - Texas 2022 Legislative District Shapefiles\n",
    "        - Texas 2012-2021 Legislative District Shapefiles\n",
    "        - 2016 precinct level election returns - Voting and Election Science Team\n",
    "        - 2018 precinct level election returns - VEST\n",
    "        - 2020 precinct level election returns - VEST\n",
    "    17. References\n",
    "        - Cook Political Report - PVI\n",
    "        - Ballotpedia - Texas state wide elections\n",
    "        - [FiveThirtyEight] (https://fivethirtyeight.com/features/how-red-or-blue-is-your-state-your-congressional-district/)\n",
    "    18. THANK YOU + QUESTIONS\n",
    "    \n",
    "    \n",
    "    \n",
    "    SLIDE RESOURCES\n",
    "    \n",
    "    https://docs.google.com/document/d/1JEv4Gnk4O8rk-Ti3q6dx-Cr3V7PVcFMQlrkh8tgLsqI/edit\n",
    "    \n",
    "    https://drive.google.com/drive/folders/1I5ke83Mm67Ku7KJaYKaIv591dV4fzImr\n",
    "    https://docs.google.com/presentation/d/1qMdssJzjLuK5Z4oG91HbAV6wTgk7JXW4g6rGjf10tbk/edit#slide=id.p\n",
    "    https://docs.google.com/document/d/1AeVyXnrMBBc7tQOu33x1VATu2QZ9wdmP8u68baB95fs/edit"
   ]
  },
  {
   "cell_type": "markdown",
   "id": "7c53128e",
   "metadata": {},
   "source": [
    "QUESTIONS FOR SAM/INSTRUCTORS:\n"
   ]
  },
  {
   "cell_type": "markdown",
   "id": "4580f004",
   "metadata": {},
   "source": [
    "# TESTING"
   ]
  },
  {
   "cell_type": "markdown",
   "id": "51c9977e",
   "metadata": {},
   "source": [
    "importing packages for analysis and mapping"
   ]
  },
  {
   "cell_type": "markdown",
   "id": "264e3881",
   "metadata": {},
   "source": [
    "PVIs are calculated by comparing the lead candidate's average share of the two-party presidential vote in the past two presidential elections to the party's national average two-party share for those elections. For the current calculation, the national average for 2016 and 2020 was 51.7% Democratic to 48.3% Republican.[3] Thus, the state of Montana, where Donald Trump won 61.1% of the two-party vote in 2016 and 58.4% of the two-party vote in 2020, for an average of 59.75%, has a PVI of R+11.[4]"
   ]
  }
 ],
 "metadata": {
  "kernelspec": {
   "display_name": "Python 3",
   "language": "python",
   "name": "python3"
  },
  "language_info": {
   "codemirror_mode": {
    "name": "ipython",
    "version": 3
   },
   "file_extension": ".py",
   "mimetype": "text/x-python",
   "name": "python",
   "nbconvert_exporter": "python",
   "pygments_lexer": "ipython3",
   "version": "3.8.8"
  }
 },
 "nbformat": 4,
 "nbformat_minor": 5
}
