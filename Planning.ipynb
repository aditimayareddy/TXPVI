{
 "cells": [
  {
   "cell_type": "markdown",
   "id": "b8372a90",
   "metadata": {},
   "source": [
    "# NYCDSA Python Project\n",
    "\n",
    "## Goal - Partisan Voter Index for Texas State Legislatures\n",
    "\n",
    "### Competencies\n",
    "- ~~Source 2022 adopted shapefiles~~\n",
    "    - ~~[TX State House](https://data.capitol.texas.gov/dataset/planh2316)~~\n",
    "    - ~~[TX Senate](https://data.capitol.texas.gov/dataset/plans2168)~~\n",
    "- ~~Source pre-redistricting shapefiles~~\n",
    "    - ~~[2011 TX State House](https://data.capitol.texas.gov/dataset/planh283)~~\n",
    "    - ~~[2011 TX Senate](https://data.capitol.texas.gov/dataset/plans148)~~\n",
    "- ~~Source precinct-level federal election returns data for 2016, 2018, 2020~~\n",
    "    - VEST + RDH\n",
    "- ~~Source precinct-level state election returns data for 2016, 2018, 2020~~\n",
    "    - VEST + RDH\n",
    "- Match precincts to NEW state legislative districts using precinct centroid\n",
    "    - ~~match 2016 SLDU with 2022 SLDU\n",
    "    - ~~match 2018 SLDU with 2022 SLDU~~\n",
    "    - ~~match 2020 SLDU with 2022 SLDU~~\n",
    "    \n",
    "    - ~~match 2016 SLDL with 2022 SLDL~~\n",
    "    - ~~match 2018 SLDL with 2022 SLDL~~\n",
    "    - ~~match 2020 SLDL with 2022 SLDL~~\n",
    "- ~~Drop races not being used from elections returns~~\n",
    "- Create a PVI metric(s) for new state legislative districts\n",
    "- Source data on which seats are open in the 2022 midterms, filing deadlines, historical open seats/competitiveness\n",
    "- Analyze differences in state leg election returns vs state wide vs federal (turnout, partisan lean)\n",
    "- Visualize in graphs and maps\n",
    "- Make recommendations about which data to use to predict partisan lean for upcoming downballot elections\n",
    "- Future work - matching census data to the election returns, expanding to more states, comparing BETWEEN states (do some states follow national trends in downballot races?), incorporating open seats vs incumbent seats (after filing deadlines pass!)\n"
   ]
  },
  {
   "cell_type": "markdown",
   "id": "aec7a71f",
   "metadata": {},
   "source": [
    "### Decision Points\n",
    "\n",
    "#### State to use\n",
    "| Contender | DB dem focus | SH      | SS    | Maps Enacted | Filing DL | 2016 | 2018 | 2020 | Shp new | shp old |\n",
    "|-----------|--------------|---------|-------|--------------|-----------|------|------|------|---------|---------|\n",
    "| Michigan  | Y            | 110/110 | 38/38 | Y            | 4/19/22   | Y    | Y    | Y    | Y       | Y       |\n",
    "| Oregon    | N            | 60/60   | 15/30 | Y            | 3/8/22    | Y    | Y    | Y    | Y       | Y       |\n",
    "| **Texas** | Y            | 150/150 | 31/31 | Y            | 12/13/21  | Y    | Y    | Y    | Y       | Y       |\n",
    "| Florida   | N            | 120/120 | 40/40 | Y            | 06/17/22  | Y    | Y    | Y    | Y       | Y       |\n",
    "\n",
    "\n",
    "#### Source of election returns data\n",
    "- **VEST**\n",
    "- MEDSL\n",
    "- RDH\n",
    "- Sec of State\n",
    "\n",
    "#### PVI Metrics\n",
    "- Cook PVI - partisan lean compared to baseline of national avg from last two presidential elections\n",
    "- Cook PVI for states - partisan lean compared to baseline of STATE avg from last two presidential elections\n",
    "- Adapted State Wide PVI - partisan lean per district compared to baseline of composite state official elections from last 2 elections\n",
    "\n",
    "#### Mapping packages/ gis formats\n",
    "- geopandas\n",
    "- folium OR plotly\n",
    "        "
   ]
  },
  {
   "cell_type": "markdown",
   "id": "5fb96788",
   "metadata": {},
   "source": [
    "# ETL\n",
    "\n",
    "\n",
    "\n",
    "### SHAPEFILES\n",
    "\n",
    "1. NEW_SENATE\n",
    "2. NEW_HOUSE\n",
    "\n",
    "### PRECINT RETURNS\n",
    "\n",
    "1. TX_2020\n",
    "2. TX_2018\n",
    "3. TX_2016\n",
    "\n"
   ]
  },
  {
   "cell_type": "markdown",
   "id": "8f6c5ecb",
   "metadata": {},
   "source": [
    "### Resources\n",
    "#### Mapping/Viz\n",
    "- [Colorbrewer](https://colorbrewer2.org/#type=qualitative&scheme=Set1&n=3)"
   ]
  },
  {
   "cell_type": "markdown",
   "id": "60faee04",
   "metadata": {},
   "source": [
    "#### Presentation format\n",
    "\n",
    "       Slides\n",
    "    1. Goal - Calculating a partisan voter index for Texas state legislature chambers\n",
    "    2. Who is this for?\n",
    "             - to inform journalism, research, students, citizenry, potential public servants, advocacy organizations, businesses\n",
    "        -CAMPAIGNING - Should I run for office in the future? Where?\n",
    "        -DONATION - Where does my campaign donation make the most impact?\n",
    "        -ISSUES -  Which political campaigns would be receptive to my lobbying efforts? Which constituencies would make most sense for media advertising etc?\n",
    "        -PARTICIPATION - Where do I want to live? Is there a campaign I'd be well suited to volunteer with?\n",
    "    3. What is Partisan lean?\n",
    "    3. Why downballot?\n",
    "    4. How partisan voter index would have been calculated in the past\n",
    "    5. 2020 Census and redistricting - timeline\n",
    "    6. Texas maps - side by side of old districts vs new districts\n",
    "    7. Matching old election returnsby precinct to new maps of 2022 legislative districts(map of voting precincts and new districts side by side)\n",
    "        - precinct centroid methodology\n",
    "    8. What election data we are using\n",
    "    8. Analyze differences in state leg election returns vs state wide vs federal for 2020 (turnout, partisan lean)\n",
    "    9. 3 ways to calculate PVI - which one makes most sense?\n",
    "    10. Side by side comparison of 3 PVI metrics applied to 2020 election (using 2018 and 2016 election data)\n",
    "    11. Chosen PVI metric applied for 2022 districts (using 2020 and 2018 election data)\n",
    "    12. Exploration of the breakdown - how many solid, likely, tossup, deadheat districts per chamber\n",
    "        - pie chart\n",
    "        - map of all\n",
    "        - map of the districts in the 2022 election\n",
    "    13. What CANT this be used for? + Limitations\n",
    "        - NOT a predictive tool, does not factor in incumbency, turnout differences betwween races, candidate background, campaign financing etc\n",
    "        - Cannot be used to compare to districts outside of the state\n",
    "    14. What CAN this be used for?\n",
    "        - to inform journalism, research, students, citizenry, potential public servants\n",
    "        -CAMPAIGNING - Should I run for office in the future? Where?\n",
    "        -DONATION - Where does my campaign donation make the most impact?\n",
    "        -ISSUES -  Which political campaigns would be receptive to my lobbying efforts?\n",
    "        -PARTICIPATION - Where do I want to live? Is there a campaign I'd be well suited to volunteer with?\n",
    "    15. Future work\n",
    "        PVI METRIC\n",
    "        - incorporate census population data, and analyze demographic differences\n",
    "        - accounting for differences in voter turnout\n",
    "        - accounting for differences in types of elections each year (eg. Governors race in 2018, but only 1 state-wide office election in 2018)\n",
    "        - adapting to other downballot elections - local races, school boards, mayoral, city council etc\n",
    "        - expanding to other states, and standardizing across them so a user could compare TX HD-1 to OR SD-4, and allocate resources accordingly based on relative lean in a national environment\n",
    "        - Validate 2020 election returns (pandemic time, mail in ballots, potential change in voter behavior etc)\n",
    "        - Update after 2022 midterms, to see how useful PVI metric is\n",
    "        - Possibly integrate with other tools - like climate score, voting records of representatives etc\n",
    "        - Possibly integrate with political tools to predict races - open seats, incumbency, campaign finance\n",
    "        - Possibly compare between states - do some states follow national trends in downballot races?\n",
    "    16. Data Sources\n",
    "        - Texas 2022 Legislative District Shapefiles\n",
    "        - Texas 2012-2021 Legislative District Shapefiles\n",
    "        - 2016 precinct level election returns - Voting and Election Science Team\n",
    "        - 2018 precinct level election returns - VEST\n",
    "        - 2020 precinct level election returns - VEST\n",
    "    17. References\n",
    "        - Cook Political Report - PVI\n",
    "        - Ballotpedia - Texas state wide elections\n",
    "        - [FiveThirtyEight] (https://fivethirtyeight.com/features/how-red-or-blue-is-your-state-your-congressional-district/)\n",
    "    18. THANK YOU + QUESTIONS"
   ]
  },
  {
   "cell_type": "markdown",
   "id": "7c53128e",
   "metadata": {},
   "source": [
    "QUESTIONS FOR SAM/INSTRUCTORS:\n"
   ]
  },
  {
   "cell_type": "markdown",
   "id": "4580f004",
   "metadata": {},
   "source": [
    "# TESTING"
   ]
  },
  {
   "cell_type": "markdown",
   "id": "51c9977e",
   "metadata": {},
   "source": [
    "importing packages for analysis and mapping"
   ]
  },
  {
   "cell_type": "code",
   "execution_count": 1,
   "id": "497687d4",
   "metadata": {},
   "outputs": [],
   "source": [
    "import pandas as pd\n",
    "import geopandas as gpd\n",
    "import numpy as np\n",
    "from fiona.crs import from_epsg\n",
    "from shapely.geometry import Point, Polygon\n",
    "import matplotlib.pyplot as plt\n",
    "%matplotlib inline"
   ]
  },
  {
   "cell_type": "markdown",
   "id": "d7a55b0e",
   "metadata": {},
   "source": [
    "reading in adopted maps for 2022 state legislative districts, upper chamber and lower chamber"
   ]
  },
  {
   "cell_type": "code",
   "execution_count": 2,
   "id": "e25147cb",
   "metadata": {},
   "outputs": [],
   "source": [
    "new_senate = gpd.read_file('data/maps/tx_sldu_2022/PLANS2168.shp')\n",
    "new_senate = new_senate.to_crs(epsg=3857)\n",
    "new_senate.columns = ['district', 'geometry']"
   ]
  },
  {
   "cell_type": "code",
   "execution_count": 3,
   "id": "a66b3bc7",
   "metadata": {},
   "outputs": [],
   "source": [
    "new_house = gpd.read_file('data/maps/tx_sldl_2022/PLANH2316.shp')\n",
    "new_house = new_house.to_crs(epsg=3857)\n",
    "new_house.columns = ['district', 'geometry']"
   ]
  },
  {
   "cell_type": "code",
   "execution_count": 4,
   "id": "e691605c",
   "metadata": {},
   "outputs": [
    {
     "data": {
      "text/html": [
       "<div>\n",
       "<style scoped>\n",
       "    .dataframe tbody tr th:only-of-type {\n",
       "        vertical-align: middle;\n",
       "    }\n",
       "\n",
       "    .dataframe tbody tr th {\n",
       "        vertical-align: top;\n",
       "    }\n",
       "\n",
       "    .dataframe thead th {\n",
       "        text-align: right;\n",
       "    }\n",
       "</style>\n",
       "<table border=\"1\" class=\"dataframe\">\n",
       "  <thead>\n",
       "    <tr style=\"text-align: right;\">\n",
       "      <th></th>\n",
       "      <th>district</th>\n",
       "      <th>geometry</th>\n",
       "    </tr>\n",
       "  </thead>\n",
       "  <tbody>\n",
       "    <tr>\n",
       "      <th>0</th>\n",
       "      <td>1</td>\n",
       "      <td>POLYGON ((-10573656.007 3743131.537, -10573658...</td>\n",
       "    </tr>\n",
       "    <tr>\n",
       "      <th>1</th>\n",
       "      <td>2</td>\n",
       "      <td>POLYGON ((-10741964.954 3736587.161, -10741969...</td>\n",
       "    </tr>\n",
       "    <tr>\n",
       "      <th>2</th>\n",
       "      <td>3</td>\n",
       "      <td>POLYGON ((-10573287.762 3488683.259, -10573288...</td>\n",
       "    </tr>\n",
       "    <tr>\n",
       "      <th>3</th>\n",
       "      <td>4</td>\n",
       "      <td>POLYGON ((-10549024.009 3419251.872, -10551095...</td>\n",
       "    </tr>\n",
       "    <tr>\n",
       "      <th>4</th>\n",
       "      <td>5</td>\n",
       "      <td>POLYGON ((-10833147.863 3476141.083, -10833400...</td>\n",
       "    </tr>\n",
       "  </tbody>\n",
       "</table>\n",
       "</div>"
      ],
      "text/plain": [
       "   district                                           geometry\n",
       "0         1  POLYGON ((-10573656.007 3743131.537, -10573658...\n",
       "1         2  POLYGON ((-10741964.954 3736587.161, -10741969...\n",
       "2         3  POLYGON ((-10573287.762 3488683.259, -10573288...\n",
       "3         4  POLYGON ((-10549024.009 3419251.872, -10551095...\n",
       "4         5  POLYGON ((-10833147.863 3476141.083, -10833400..."
      ]
     },
     "execution_count": 4,
     "metadata": {},
     "output_type": "execute_result"
    }
   ],
   "source": [
    "new_senate.head()"
   ]
  },
  {
   "cell_type": "code",
   "execution_count": 5,
   "id": "8421a757",
   "metadata": {},
   "outputs": [
    {
     "name": "stdout",
     "output_type": "stream",
     "text": [
      "<class 'geopandas.geodataframe.GeoDataFrame'>\n",
      "RangeIndex: 31 entries, 0 to 30\n",
      "Data columns (total 2 columns):\n",
      " #   Column    Non-Null Count  Dtype   \n",
      "---  ------    --------------  -----   \n",
      " 0   district  31 non-null     int64   \n",
      " 1   geometry  31 non-null     geometry\n",
      "dtypes: geometry(1), int64(1)\n",
      "memory usage: 624.0 bytes\n"
     ]
    }
   ],
   "source": [
    "#make sure there are 31 rows\n",
    "new_senate.info()"
   ]
  },
  {
   "cell_type": "code",
   "execution_count": 6,
   "id": "83ae7bdd",
   "metadata": {},
   "outputs": [
    {
     "data": {
      "text/html": [
       "<div>\n",
       "<style scoped>\n",
       "    .dataframe tbody tr th:only-of-type {\n",
       "        vertical-align: middle;\n",
       "    }\n",
       "\n",
       "    .dataframe tbody tr th {\n",
       "        vertical-align: top;\n",
       "    }\n",
       "\n",
       "    .dataframe thead th {\n",
       "        text-align: right;\n",
       "    }\n",
       "</style>\n",
       "<table border=\"1\" class=\"dataframe\">\n",
       "  <thead>\n",
       "    <tr style=\"text-align: right;\">\n",
       "      <th></th>\n",
       "      <th>district</th>\n",
       "      <th>geometry</th>\n",
       "    </tr>\n",
       "  </thead>\n",
       "  <tbody>\n",
       "    <tr>\n",
       "      <th>0</th>\n",
       "      <td>1</td>\n",
       "      <td>POLYGON ((-10542597.312 3879275.569, -10542599...</td>\n",
       "    </tr>\n",
       "    <tr>\n",
       "      <th>1</th>\n",
       "      <td>2</td>\n",
       "      <td>POLYGON ((-10695048.910 3810327.976, -10695060...</td>\n",
       "    </tr>\n",
       "    <tr>\n",
       "      <th>2</th>\n",
       "      <td>3</td>\n",
       "      <td>POLYGON ((-10604704.015 3507730.286, -10604707...</td>\n",
       "    </tr>\n",
       "    <tr>\n",
       "      <th>3</th>\n",
       "      <td>4</td>\n",
       "      <td>POLYGON ((-10698470.871 3773200.168, -10698505...</td>\n",
       "    </tr>\n",
       "    <tr>\n",
       "      <th>4</th>\n",
       "      <td>5</td>\n",
       "      <td>POLYGON ((-10574656.212 3797494.056, -10574656...</td>\n",
       "    </tr>\n",
       "  </tbody>\n",
       "</table>\n",
       "</div>"
      ],
      "text/plain": [
       "   district                                           geometry\n",
       "0         1  POLYGON ((-10542597.312 3879275.569, -10542599...\n",
       "1         2  POLYGON ((-10695048.910 3810327.976, -10695060...\n",
       "2         3  POLYGON ((-10604704.015 3507730.286, -10604707...\n",
       "3         4  POLYGON ((-10698470.871 3773200.168, -10698505...\n",
       "4         5  POLYGON ((-10574656.212 3797494.056, -10574656..."
      ]
     },
     "execution_count": 6,
     "metadata": {},
     "output_type": "execute_result"
    }
   ],
   "source": [
    "new_house.head()"
   ]
  },
  {
   "cell_type": "code",
   "execution_count": 7,
   "id": "872c07c3",
   "metadata": {},
   "outputs": [
    {
     "name": "stdout",
     "output_type": "stream",
     "text": [
      "<class 'geopandas.geodataframe.GeoDataFrame'>\n",
      "RangeIndex: 150 entries, 0 to 149\n",
      "Data columns (total 2 columns):\n",
      " #   Column    Non-Null Count  Dtype   \n",
      "---  ------    --------------  -----   \n",
      " 0   district  150 non-null    int64   \n",
      " 1   geometry  150 non-null    geometry\n",
      "dtypes: geometry(1), int64(1)\n",
      "memory usage: 2.5 KB\n"
     ]
    }
   ],
   "source": [
    "new_house.info() #making sure there are 150 districts"
   ]
  },
  {
   "cell_type": "code",
   "execution_count": 8,
   "id": "45542865",
   "metadata": {},
   "outputs": [
    {
     "data": {
      "text/plain": [
       "<AxesSubplot:>"
      ]
     },
     "execution_count": 8,
     "metadata": {},
     "output_type": "execute_result"
    },
    {
     "data": {
      "image/png": "[encoded data removed]",
      "text/plain": [
       "<Figure size 1080x864 with 1 Axes>"
      ]
     },
     "metadata": {
      "needs_background": "light"
     },
     "output_type": "display_data"
    },
    {
     "data": {
      "image/png": "[encoded data removed]",
      "text/plain": [
       "<Figure size 1080x864 with 1 Axes>"
      ]
     },
     "metadata": {
      "needs_background": "light"
     },
     "output_type": "display_data"
    }
   ],
   "source": [
    "new_house.plot(color = 'lightblue', edgecolor ='black', figsize = (15,12), linewidth = 0.6, legend=True,)\n",
    "new_senate.plot(color = 'tan', edgecolor ='black', figsize = (15,12))"
   ]
  },
  {
   "cell_type": "markdown",
   "id": "cd1516d5",
   "metadata": {},
   "source": [
    "Reading in maps in use through 2021"
   ]
  },
  {
   "cell_type": "code",
   "execution_count": 9,
   "id": "35eaf69c",
   "metadata": {},
   "outputs": [],
   "source": [
    "old_senate = gpd.read_file('data/maps/tx_sldu_2012/tx_sldu_2012_to_2021.shp')\n",
    "old_senate = old_senate.to_crs(epsg=3857)\n",
    "old_senate.columns = ['district', 'geometry']"
   ]
  },
  {
   "cell_type": "code",
   "execution_count": 10,
   "id": "14c2592d",
   "metadata": {},
   "outputs": [
    {
     "data": {
      "text/html": [
       "<div>\n",
       "<style scoped>\n",
       "    .dataframe tbody tr th:only-of-type {\n",
       "        vertical-align: middle;\n",
       "    }\n",
       "\n",
       "    .dataframe tbody tr th {\n",
       "        vertical-align: top;\n",
       "    }\n",
       "\n",
       "    .dataframe thead th {\n",
       "        text-align: right;\n",
       "    }\n",
       "</style>\n",
       "<table border=\"1\" class=\"dataframe\">\n",
       "  <thead>\n",
       "    <tr style=\"text-align: right;\">\n",
       "      <th></th>\n",
       "      <th>district</th>\n",
       "      <th>geometry</th>\n",
       "    </tr>\n",
       "  </thead>\n",
       "  <tbody>\n",
       "    <tr>\n",
       "      <th>0</th>\n",
       "      <td>1</td>\n",
       "      <td>POLYGON ((-10670539.809 3997160.591, -10670541...</td>\n",
       "    </tr>\n",
       "    <tr>\n",
       "      <th>1</th>\n",
       "      <td>2</td>\n",
       "      <td>POLYGON ((-10771671.228 3869775.164, -10771774...</td>\n",
       "    </tr>\n",
       "    <tr>\n",
       "      <th>2</th>\n",
       "      <td>3</td>\n",
       "      <td>POLYGON ((-10713306.976 3809980.604, -10713298...</td>\n",
       "    </tr>\n",
       "    <tr>\n",
       "      <th>3</th>\n",
       "      <td>4</td>\n",
       "      <td>POLYGON ((-10666298.648 3567275.350, -10666319...</td>\n",
       "    </tr>\n",
       "    <tr>\n",
       "      <th>4</th>\n",
       "      <td>5</td>\n",
       "      <td>POLYGON ((-10912687.976 3588730.310, -10912679...</td>\n",
       "    </tr>\n",
       "  </tbody>\n",
       "</table>\n",
       "</div>"
      ],
      "text/plain": [
       "   district                                           geometry\n",
       "0         1  POLYGON ((-10670539.809 3997160.591, -10670541...\n",
       "1         2  POLYGON ((-10771671.228 3869775.164, -10771774...\n",
       "2         3  POLYGON ((-10713306.976 3809980.604, -10713298...\n",
       "3         4  POLYGON ((-10666298.648 3567275.350, -10666319...\n",
       "4         5  POLYGON ((-10912687.976 3588730.310, -10912679..."
      ]
     },
     "execution_count": 10,
     "metadata": {},
     "output_type": "execute_result"
    }
   ],
   "source": [
    "old_senate.head()"
   ]
  },
  {
   "cell_type": "code",
   "execution_count": 11,
   "id": "3237f25f",
   "metadata": {},
   "outputs": [],
   "source": [
    "old_house = gpd.read_file('data/maps/tx_sldl_2019/tx_sldl_2019_to_2021.shp')\n",
    "old_house = old_house.to_crs(epsg=3857)\n",
    "old_house.columns = ['district', 'geometry']"
   ]
  },
  {
   "cell_type": "code",
   "execution_count": 12,
   "id": "fd969b9e",
   "metadata": {},
   "outputs": [
    {
     "data": {
      "text/html": [
       "<div>\n",
       "<style scoped>\n",
       "    .dataframe tbody tr th:only-of-type {\n",
       "        vertical-align: middle;\n",
       "    }\n",
       "\n",
       "    .dataframe tbody tr th {\n",
       "        vertical-align: top;\n",
       "    }\n",
       "\n",
       "    .dataframe thead th {\n",
       "        text-align: right;\n",
       "    }\n",
       "</style>\n",
       "<table border=\"1\" class=\"dataframe\">\n",
       "  <thead>\n",
       "    <tr style=\"text-align: right;\">\n",
       "      <th></th>\n",
       "      <th>district</th>\n",
       "      <th>geometry</th>\n",
       "    </tr>\n",
       "  </thead>\n",
       "  <tbody>\n",
       "    <tr>\n",
       "      <th>0</th>\n",
       "      <td>1</td>\n",
       "      <td>POLYGON ((-10609744.561 3890337.075, -10609742...</td>\n",
       "    </tr>\n",
       "    <tr>\n",
       "      <th>1</th>\n",
       "      <td>2</td>\n",
       "      <td>POLYGON ((-10695060.042 3810328.240, -10695060...</td>\n",
       "    </tr>\n",
       "    <tr>\n",
       "      <th>2</th>\n",
       "      <td>3</td>\n",
       "      <td>POLYGON ((-10690312.488 3468627.297, -10690342...</td>\n",
       "    </tr>\n",
       "    <tr>\n",
       "      <th>3</th>\n",
       "      <td>4</td>\n",
       "      <td>POLYGON ((-10692547.227 3764084.462, -10692547...</td>\n",
       "    </tr>\n",
       "    <tr>\n",
       "      <th>4</th>\n",
       "      <td>5</td>\n",
       "      <td>POLYGON ((-10600792.359 3781231.618, -10600818...</td>\n",
       "    </tr>\n",
       "  </tbody>\n",
       "</table>\n",
       "</div>"
      ],
      "text/plain": [
       "   district                                           geometry\n",
       "0         1  POLYGON ((-10609744.561 3890337.075, -10609742...\n",
       "1         2  POLYGON ((-10695060.042 3810328.240, -10695060...\n",
       "2         3  POLYGON ((-10690312.488 3468627.297, -10690342...\n",
       "3         4  POLYGON ((-10692547.227 3764084.462, -10692547...\n",
       "4         5  POLYGON ((-10600792.359 3781231.618, -10600818..."
      ]
     },
     "execution_count": 12,
     "metadata": {},
     "output_type": "execute_result"
    }
   ],
   "source": [
    "old_house.head()"
   ]
  },
  {
   "cell_type": "code",
   "execution_count": 13,
   "id": "836c0908",
   "metadata": {},
   "outputs": [
    {
     "data": {
      "text/plain": [
       "<AxesSubplot:>"
      ]
     },
     "execution_count": 13,
     "metadata": {},
     "output_type": "execute_result"
    },
    {
     "data": {
      "image/png": "[encoded data removed]",
      "text/plain": [
       "<Figure size 432x288 with 1 Axes>"
      ]
     },
     "metadata": {
      "needs_background": "light"
     },
     "output_type": "display_data"
    }
   ],
   "source": [
    "old_senate.plot()"
   ]
  },
  {
   "cell_type": "code",
   "execution_count": 14,
   "id": "d3ad34c0",
   "metadata": {},
   "outputs": [
    {
     "data": {
      "text/plain": [
       "<AxesSubplot:>"
      ]
     },
     "execution_count": 14,
     "metadata": {},
     "output_type": "execute_result"
    },
    {
     "data": {
      "image/png": "[encoded data removed]",
      "text/plain": [
       "<Figure size 432x288 with 1 Axes>"
      ]
     },
     "metadata": {
      "needs_background": "light"
     },
     "output_type": "display_data"
    }
   ],
   "source": [
    "new_senate.plot()"
   ]
  },
  {
   "cell_type": "code",
   "execution_count": 15,
   "id": "5f01c420",
   "metadata": {},
   "outputs": [
    {
     "data": {
      "text/plain": [
       "<AxesSubplot:>"
      ]
     },
     "execution_count": 15,
     "metadata": {},
     "output_type": "execute_result"
    },
    {
     "data": {
      "image/png": "[encoded data removed]",
      "text/plain": [
       "<Figure size 432x288 with 1 Axes>"
      ]
     },
     "metadata": {
      "needs_background": "light"
     },
     "output_type": "display_data"
    }
   ],
   "source": [
    "old_house.plot()"
   ]
  },
  {
   "cell_type": "code",
   "execution_count": 16,
   "id": "67f237ae",
   "metadata": {},
   "outputs": [
    {
     "data": {
      "text/plain": [
       "<AxesSubplot:>"
      ]
     },
     "execution_count": 16,
     "metadata": {},
     "output_type": "execute_result"
    },
    {
     "data": {
      "image/png": "[encoded data removed]",
      "text/plain": [
       "<Figure size 432x288 with 1 Axes>"
      ]
     },
     "metadata": {
      "needs_background": "light"
     },
     "output_type": "display_data"
    }
   ],
   "source": [
    "new_house.plot()"
   ]
  },
  {
   "cell_type": "markdown",
   "id": "32c8b806",
   "metadata": {},
   "source": [
    "# Reading in Election Returns Data\n",
    "    - Data from Voting and Election Science Team"
   ]
  },
  {
   "cell_type": "code",
   "execution_count": 17,
   "id": "cb8299f1",
   "metadata": {},
   "outputs": [
    {
     "data": {
      "text/plain": [
       "Index(['CNTY', 'COLOR', 'PREC', 'PCTKEY', 'CNTYKEY', 'G20VR', 'G20SSVR',\n",
       "       'G20PRERTRU', 'G20PREDBID', 'G20PRELJOR', 'G20PREGHAW', 'G20PREOWRI',\n",
       "       'G20USSRCOR', 'G20USSDHEG', 'G20USSLMCK', 'G20USSGCOL', 'G20RRCRWRI',\n",
       "       'G20RRCDCAS', 'G20RRCLSTE', 'G20RRCGGRU', 'G20SSCRHEC', 'G20SSCDMEA',\n",
       "       'G20SSCLASH', 'G20SSCRBLA', 'G20SSCDCHE', 'G20SSCRBOY', 'G20SSCDWIL',\n",
       "       'G20SSCLSTR', 'G20SSCRBUS', 'G20SSCDTRI', 'G20SSCLOXF', 'G20SCCRRIC',\n",
       "       'G20SCCDFRI', 'G20SCCRYEA', 'G20SCCDCLI', 'G20SCCRNEW', 'G20SCCDBIR',\n",
       "       'geometry'],\n",
       "      dtype='object')"
      ]
     },
     "execution_count": 17,
     "metadata": {},
     "output_type": "execute_result"
    }
   ],
   "source": [
    "tx_2020 = gpd.read_file('data/elec_ret/tx_vest_20/tx_vest_20.shp')\n",
    "tx_2020 = tx_2020.to_crs(epsg=3857)\n",
    "tx_2020.columns"
   ]
  },
  {
   "cell_type": "code",
   "execution_count": 18,
   "id": "242cead3",
   "metadata": {},
   "outputs": [
    {
     "data": {
      "text/html": [
       "<div>\n",
       "<style scoped>\n",
       "    .dataframe tbody tr th:only-of-type {\n",
       "        vertical-align: middle;\n",
       "    }\n",
       "\n",
       "    .dataframe tbody tr th {\n",
       "        vertical-align: top;\n",
       "    }\n",
       "\n",
       "    .dataframe thead th {\n",
       "        text-align: right;\n",
       "    }\n",
       "</style>\n",
       "<table border=\"1\" class=\"dataframe\">\n",
       "  <thead>\n",
       "    <tr style=\"text-align: right;\">\n",
       "      <th></th>\n",
       "      <th>CNTY</th>\n",
       "      <th>COLOR</th>\n",
       "      <th>PREC</th>\n",
       "      <th>PCTKEY</th>\n",
       "      <th>CNTYKEY</th>\n",
       "      <th>G20VR</th>\n",
       "      <th>G20SSVR</th>\n",
       "      <th>G20PRERTRU</th>\n",
       "      <th>G20PREDBID</th>\n",
       "      <th>G20PRELJOR</th>\n",
       "      <th>...</th>\n",
       "      <th>G20SSCRBUS</th>\n",
       "      <th>G20SSCDTRI</th>\n",
       "      <th>G20SSCLOXF</th>\n",
       "      <th>G20SCCRRIC</th>\n",
       "      <th>G20SCCDFRI</th>\n",
       "      <th>G20SCCRYEA</th>\n",
       "      <th>G20SCCDCLI</th>\n",
       "      <th>G20SCCRNEW</th>\n",
       "      <th>G20SCCDBIR</th>\n",
       "      <th>geometry</th>\n",
       "    </tr>\n",
       "  </thead>\n",
       "  <tbody>\n",
       "    <tr>\n",
       "      <th>0</th>\n",
       "      <td>113</td>\n",
       "      <td>7</td>\n",
       "      <td>1104</td>\n",
       "      <td>1131104</td>\n",
       "      <td>57</td>\n",
       "      <td>2745</td>\n",
       "      <td>39.5</td>\n",
       "      <td>221</td>\n",
       "      <td>1173</td>\n",
       "      <td>7</td>\n",
       "      <td>...</td>\n",
       "      <td>195</td>\n",
       "      <td>1157</td>\n",
       "      <td>32</td>\n",
       "      <td>216</td>\n",
       "      <td>1172</td>\n",
       "      <td>214</td>\n",
       "      <td>1169</td>\n",
       "      <td>219</td>\n",
       "      <td>1162</td>\n",
       "      <td>POLYGON ((-10758067.430 3860055.461, -10758066...</td>\n",
       "    </tr>\n",
       "    <tr>\n",
       "      <th>1</th>\n",
       "      <td>201</td>\n",
       "      <td>2</td>\n",
       "      <td>0312</td>\n",
       "      <td>2010312</td>\n",
       "      <td>101</td>\n",
       "      <td>3973</td>\n",
       "      <td>11.3</td>\n",
       "      <td>1124</td>\n",
       "      <td>1460</td>\n",
       "      <td>21</td>\n",
       "      <td>...</td>\n",
       "      <td>1190</td>\n",
       "      <td>1290</td>\n",
       "      <td>54</td>\n",
       "      <td>1194</td>\n",
       "      <td>1343</td>\n",
       "      <td>1152</td>\n",
       "      <td>1373</td>\n",
       "      <td>1170</td>\n",
       "      <td>1345</td>\n",
       "      <td>POLYGON ((-10633117.424 3470600.303, -10633107...</td>\n",
       "    </tr>\n",
       "    <tr>\n",
       "      <th>2</th>\n",
       "      <td>351</td>\n",
       "      <td>4</td>\n",
       "      <td>0003</td>\n",
       "      <td>3510003</td>\n",
       "      <td>176</td>\n",
       "      <td>626</td>\n",
       "      <td>1.1</td>\n",
       "      <td>412</td>\n",
       "      <td>28</td>\n",
       "      <td>0</td>\n",
       "      <td>...</td>\n",
       "      <td>387</td>\n",
       "      <td>28</td>\n",
       "      <td>5</td>\n",
       "      <td>390</td>\n",
       "      <td>29</td>\n",
       "      <td>382</td>\n",
       "      <td>32</td>\n",
       "      <td>386</td>\n",
       "      <td>31</td>\n",
       "      <td>POLYGON ((-10426892.168 3643737.045, -10426884...</td>\n",
       "    </tr>\n",
       "    <tr>\n",
       "      <th>3</th>\n",
       "      <td>181</td>\n",
       "      <td>4</td>\n",
       "      <td>0304</td>\n",
       "      <td>1810304</td>\n",
       "      <td>91</td>\n",
       "      <td>3058</td>\n",
       "      <td>4.5</td>\n",
       "      <td>1290</td>\n",
       "      <td>676</td>\n",
       "      <td>29</td>\n",
       "      <td>...</td>\n",
       "      <td>1331</td>\n",
       "      <td>597</td>\n",
       "      <td>39</td>\n",
       "      <td>1335</td>\n",
       "      <td>632</td>\n",
       "      <td>1339</td>\n",
       "      <td>617</td>\n",
       "      <td>1347</td>\n",
       "      <td>619</td>\n",
       "      <td>POLYGON ((-10756382.944 3982191.632, -10756360...</td>\n",
       "    </tr>\n",
       "    <tr>\n",
       "      <th>4</th>\n",
       "      <td>201</td>\n",
       "      <td>2</td>\n",
       "      <td>0877</td>\n",
       "      <td>2010877</td>\n",
       "      <td>101</td>\n",
       "      <td>5743</td>\n",
       "      <td>27.1</td>\n",
       "      <td>1352</td>\n",
       "      <td>2554</td>\n",
       "      <td>43</td>\n",
       "      <td>...</td>\n",
       "      <td>1316</td>\n",
       "      <td>2466</td>\n",
       "      <td>105</td>\n",
       "      <td>1359</td>\n",
       "      <td>2516</td>\n",
       "      <td>1379</td>\n",
       "      <td>2495</td>\n",
       "      <td>1382</td>\n",
       "      <td>2490</td>\n",
       "      <td>POLYGON ((-10659524.189 3486681.282, -10659513...</td>\n",
       "    </tr>\n",
       "  </tbody>\n",
       "</table>\n",
       "<p>5 rows × 38 columns</p>\n",
       "</div>"
      ],
      "text/plain": [
       "   CNTY  COLOR  PREC   PCTKEY  CNTYKEY  G20VR  G20SSVR  G20PRERTRU  \\\n",
       "0   113      7  1104  1131104       57   2745     39.5         221   \n",
       "1   201      2  0312  2010312      101   3973     11.3        1124   \n",
       "2   351      4  0003  3510003      176    626      1.1         412   \n",
       "3   181      4  0304  1810304       91   3058      4.5        1290   \n",
       "4   201      2  0877  2010877      101   5743     27.1        1352   \n",
       "\n",
       "   G20PREDBID  G20PRELJOR  ...  G20SSCRBUS  G20SSCDTRI  G20SSCLOXF  \\\n",
       "0        1173           7  ...         195        1157          32   \n",
       "1        1460          21  ...        1190        1290          54   \n",
       "2          28           0  ...         387          28           5   \n",
       "3         676          29  ...        1331         597          39   \n",
       "4        2554          43  ...        1316        2466         105   \n",
       "\n",
       "   G20SCCRRIC  G20SCCDFRI  G20SCCRYEA  G20SCCDCLI  G20SCCRNEW  G20SCCDBIR  \\\n",
       "0         216        1172         214        1169         219        1162   \n",
       "1        1194        1343        1152        1373        1170        1345   \n",
       "2         390          29         382          32         386          31   \n",
       "3        1335         632        1339         617        1347         619   \n",
       "4        1359        2516        1379        2495        1382        2490   \n",
       "\n",
       "                                            geometry  \n",
       "0  POLYGON ((-10758067.430 3860055.461, -10758066...  \n",
       "1  POLYGON ((-10633117.424 3470600.303, -10633107...  \n",
       "2  POLYGON ((-10426892.168 3643737.045, -10426884...  \n",
       "3  POLYGON ((-10756382.944 3982191.632, -10756360...  \n",
       "4  POLYGON ((-10659524.189 3486681.282, -10659513...  \n",
       "\n",
       "[5 rows x 38 columns]"
      ]
     },
     "execution_count": 18,
     "metadata": {},
     "output_type": "execute_result"
    }
   ],
   "source": [
    "tx_2020.head(5)"
   ]
  },
  {
   "cell_type": "code",
   "execution_count": 19,
   "id": "e469d805",
   "metadata": {},
   "outputs": [
    {
     "name": "stdout",
     "output_type": "stream",
     "text": [
      "<class 'geopandas.geodataframe.GeoDataFrame'>\n",
      "RangeIndex: 9014 entries, 0 to 9013\n",
      "Data columns (total 38 columns):\n",
      " #   Column      Non-Null Count  Dtype   \n",
      "---  ------      --------------  -----   \n",
      " 0   CNTY        9014 non-null   int64   \n",
      " 1   COLOR       9014 non-null   int64   \n",
      " 2   PREC        9014 non-null   object  \n",
      " 3   PCTKEY      9014 non-null   object  \n",
      " 4   CNTYKEY     9014 non-null   int64   \n",
      " 5   G20VR       9014 non-null   int64   \n",
      " 6   G20SSVR     9014 non-null   float64 \n",
      " 7   G20PRERTRU  9014 non-null   int64   \n",
      " 8   G20PREDBID  9014 non-null   int64   \n",
      " 9   G20PRELJOR  9014 non-null   int64   \n",
      " 10  G20PREGHAW  9014 non-null   int64   \n",
      " 11  G20PREOWRI  9014 non-null   int64   \n",
      " 12  G20USSRCOR  9014 non-null   int64   \n",
      " 13  G20USSDHEG  9014 non-null   int64   \n",
      " 14  G20USSLMCK  9014 non-null   int64   \n",
      " 15  G20USSGCOL  9014 non-null   int64   \n",
      " 16  G20RRCRWRI  9014 non-null   int64   \n",
      " 17  G20RRCDCAS  9014 non-null   int64   \n",
      " 18  G20RRCLSTE  9014 non-null   int64   \n",
      " 19  G20RRCGGRU  9014 non-null   int64   \n",
      " 20  G20SSCRHEC  9014 non-null   int64   \n",
      " 21  G20SSCDMEA  9014 non-null   int64   \n",
      " 22  G20SSCLASH  9014 non-null   int64   \n",
      " 23  G20SSCRBLA  9014 non-null   int64   \n",
      " 24  G20SSCDCHE  9014 non-null   int64   \n",
      " 25  G20SSCRBOY  9014 non-null   int64   \n",
      " 26  G20SSCDWIL  9014 non-null   int64   \n",
      " 27  G20SSCLSTR  9014 non-null   int64   \n",
      " 28  G20SSCRBUS  9014 non-null   int64   \n",
      " 29  G20SSCDTRI  9014 non-null   int64   \n",
      " 30  G20SSCLOXF  9014 non-null   int64   \n",
      " 31  G20SCCRRIC  9014 non-null   int64   \n",
      " 32  G20SCCDFRI  9014 non-null   int64   \n",
      " 33  G20SCCRYEA  9014 non-null   int64   \n",
      " 34  G20SCCDCLI  9014 non-null   int64   \n",
      " 35  G20SCCRNEW  9014 non-null   int64   \n",
      " 36  G20SCCDBIR  9014 non-null   int64   \n",
      " 37  geometry    9014 non-null   geometry\n",
      "dtypes: float64(1), geometry(1), int64(34), object(2)\n",
      "memory usage: 2.6+ MB\n"
     ]
    }
   ],
   "source": [
    "tx_2020.info()"
   ]
  },
  {
   "cell_type": "code",
   "execution_count": 20,
   "id": "7a7dde8c",
   "metadata": {},
   "outputs": [
    {
     "data": {
      "text/plain": [
       "Index(['county_key', 'prec_key', 'pre_20_r', 'pre_20_d', 'pre_20_tot',\n",
       "       'uss_20_r', 'uss_20_d', 'uss_20_tot', 'rrc_20_r', 'rrc_20_d',\n",
       "       'rrc_20_tot', 'SD', 'HD', 'geometry'],\n",
       "      dtype='object')"
      ]
     },
     "execution_count": 20,
     "metadata": {},
     "output_type": "execute_result"
    }
   ],
   "source": [
    "tx_2020['SD'] = np.nan\n",
    "tx_2020['HD'] = np.nan\n",
    "tx_2020['G20PRETOT'] = tx_2020['G20PRERTRU'] + tx_2020['G20PREDBID']\n",
    "tx_2020['G20USSTOT'] = tx_2020['G20USSRCOR'] + tx_2020['G20USSDHEG']\n",
    "tx_2020['G20RRCTOT'] = tx_2020['G20RRCRWRI'] + tx_2020['G20RRCDCAS']\n",
    "#tx_2020['G20SSC1TOT'] = tx_2020['G20SSCRHEC'] + tx_2020['G20SSCDMEA']\n",
    "#tx_2020['G20SSC2TOT'] = tx_2020['G20SSCRBLA'] + tx_2020['G20SSCDCHE']\n",
    "#tx_2020['G20SSC3TOT'] = tx_2020['G20SSCRBOY'] + tx_2020['G20SSCDWIL']\n",
    "#tx_2020['G20SSC4TOT'] = tx_2020['G20SSCRBUS'] + tx_2020['G20SSCDTRI']\n",
    "tx_2020 = tx_2020.loc[:, ['CNTY','PCTKEY','G20PRERTRU','G20PREDBID','G20PRETOT','G20USSRCOR','G20USSDHEG','G20USSTOT', 'G20RRCRWRI','G20RRCDCAS','G20RRCTOT','SD','HD','geometry']]\n",
    "tx_2020.columns = ['county_key','prec_key', 'pre_20_r','pre_20_d', 'pre_20_tot','uss_20_r', 'uss_20_d', 'uss_20_tot','rrc_20_r','rrc_20_d','rrc_20_tot','SD','HD','geometry']\n",
    "tx_2020.columns"
   ]
  },
  {
   "cell_type": "code",
   "execution_count": 21,
   "id": "343ac29e",
   "metadata": {},
   "outputs": [
    {
     "name": "stdout",
     "output_type": "stream",
     "text": [
      "<class 'geopandas.geodataframe.GeoDataFrame'>\n",
      "RangeIndex: 9014 entries, 0 to 9013\n",
      "Data columns (total 14 columns):\n",
      " #   Column      Non-Null Count  Dtype   \n",
      "---  ------      --------------  -----   \n",
      " 0   county_key  9014 non-null   int64   \n",
      " 1   prec_key    9014 non-null   object  \n",
      " 2   pre_20_r    9014 non-null   int64   \n",
      " 3   pre_20_d    9014 non-null   int64   \n",
      " 4   pre_20_tot  9014 non-null   int64   \n",
      " 5   uss_20_r    9014 non-null   int64   \n",
      " 6   uss_20_d    9014 non-null   int64   \n",
      " 7   uss_20_tot  9014 non-null   int64   \n",
      " 8   rrc_20_r    9014 non-null   int64   \n",
      " 9   rrc_20_d    9014 non-null   int64   \n",
      " 10  rrc_20_tot  9014 non-null   int64   \n",
      " 11  SD          0 non-null      float64 \n",
      " 12  HD          0 non-null      float64 \n",
      " 13  geometry    9014 non-null   geometry\n",
      "dtypes: float64(2), geometry(1), int64(10), object(1)\n",
      "memory usage: 986.0+ KB\n"
     ]
    }
   ],
   "source": [
    "tx_2020.info()"
   ]
  },
  {
   "cell_type": "markdown",
   "id": "264e3881",
   "metadata": {},
   "source": [
    "PVIs are calculated by comparing the lead candidate's average share of the two-party presidential vote in the past two presidential elections to the party's national average two-party share for those elections. For the current calculation, the national average for 2016 and 2020 was 51.7% Democratic to 48.3% Republican.[3] Thus, the state of Montana, where Donald Trump won 61.1% of the two-party vote in 2016 and 58.4% of the two-party vote in 2020, for an average of 59.75%, has a PVI of R+11.[4]"
   ]
  },
  {
   "cell_type": "code",
   "execution_count": 22,
   "id": "da0e001f",
   "metadata": {},
   "outputs": [],
   "source": [
    "#Testing to make sure precinct centroids line up to state legislative districts\n",
    "cent = tx_2020['geometry'][800].centroid\n",
    "\n",
    "for i in range(len(new_house)):\n",
    "    if cent.within(new_house['geometry'][i]):\n",
    "        break\n",
    "        print(i)"
   ]
  },
  {
   "cell_type": "code",
   "execution_count": 23,
   "id": "809930d6",
   "metadata": {},
   "outputs": [
    {
     "name": "stdout",
     "output_type": "stream",
     "text": [
      "False\n",
      "False\n",
      "False\n",
      "False\n",
      "False\n",
      "False\n",
      "False\n",
      "False\n",
      "False\n",
      "False\n",
      "False\n",
      "False\n",
      "False\n",
      "False\n",
      "False\n",
      "False\n",
      "False\n",
      "False\n",
      "False\n",
      "False\n",
      "False\n",
      "False\n",
      "False\n",
      "False\n",
      "False\n",
      "False\n",
      "False\n",
      "False\n",
      "False\n",
      "False\n",
      "False\n",
      "False\n",
      "False\n",
      "False\n",
      "False\n",
      "False\n",
      "False\n",
      "False\n",
      "False\n",
      "False\n",
      "False\n",
      "False\n",
      "False\n",
      "False\n",
      "False\n",
      "False\n",
      "False\n",
      "False\n",
      "False\n",
      "False\n",
      "False\n",
      "False\n",
      "False\n",
      "False\n",
      "False\n",
      "False\n",
      "False\n",
      "False\n",
      "False\n",
      "False\n",
      "False\n",
      "False\n",
      "False\n",
      "False\n",
      "False\n",
      "False\n",
      "False\n",
      "False\n",
      "False\n",
      "False\n",
      "False\n",
      "False\n",
      "False\n",
      "False\n",
      "False\n",
      "False\n",
      "False\n",
      "False\n",
      "False\n",
      "False\n",
      "False\n",
      "False\n",
      "False\n",
      "False\n",
      "False\n",
      "False\n",
      "False\n",
      "False\n",
      "False\n",
      "False\n",
      "False\n",
      "False\n",
      "False\n",
      "False\n",
      "False\n",
      "False\n",
      "False\n",
      "False\n",
      "False\n",
      "False\n",
      "False\n",
      "False\n",
      "False\n",
      "False\n",
      "False\n",
      "False\n",
      "False\n",
      "False\n",
      "False\n",
      "False\n",
      "True\n",
      "False\n",
      "False\n",
      "False\n",
      "False\n",
      "False\n",
      "False\n",
      "False\n",
      "False\n",
      "False\n",
      "False\n",
      "False\n",
      "False\n",
      "False\n",
      "False\n",
      "False\n",
      "False\n",
      "False\n",
      "False\n",
      "False\n",
      "False\n",
      "False\n",
      "False\n",
      "False\n",
      "False\n",
      "False\n",
      "False\n",
      "False\n",
      "False\n",
      "False\n",
      "False\n",
      "False\n",
      "False\n",
      "False\n",
      "False\n",
      "False\n",
      "False\n",
      "False\n",
      "False\n",
      "False\n"
     ]
    }
   ],
   "source": [
    "for i in range(len(new_house)):\n",
    "    rounds = 0\n",
    "    print(cent.within(new_house['geometry'][i]))"
   ]
  },
  {
   "cell_type": "code",
   "execution_count": 24,
   "id": "f58c292d",
   "metadata": {},
   "outputs": [
    {
     "data": {
      "text/html": [
       "<div>\n",
       "<style scoped>\n",
       "    .dataframe tbody tr th:only-of-type {\n",
       "        vertical-align: middle;\n",
       "    }\n",
       "\n",
       "    .dataframe tbody tr th {\n",
       "        vertical-align: top;\n",
       "    }\n",
       "\n",
       "    .dataframe thead th {\n",
       "        text-align: right;\n",
       "    }\n",
       "</style>\n",
       "<table border=\"1\" class=\"dataframe\">\n",
       "  <thead>\n",
       "    <tr style=\"text-align: right;\">\n",
       "      <th></th>\n",
       "      <th>district</th>\n",
       "      <th>geometry</th>\n",
       "    </tr>\n",
       "  </thead>\n",
       "  <tbody>\n",
       "    <tr>\n",
       "      <th>0</th>\n",
       "      <td>1</td>\n",
       "      <td>POLYGON ((-10573656.007 3743131.537, -10573658...</td>\n",
       "    </tr>\n",
       "    <tr>\n",
       "      <th>1</th>\n",
       "      <td>2</td>\n",
       "      <td>POLYGON ((-10741964.954 3736587.161, -10741969...</td>\n",
       "    </tr>\n",
       "    <tr>\n",
       "      <th>2</th>\n",
       "      <td>3</td>\n",
       "      <td>POLYGON ((-10573287.762 3488683.259, -10573288...</td>\n",
       "    </tr>\n",
       "    <tr>\n",
       "      <th>3</th>\n",
       "      <td>4</td>\n",
       "      <td>POLYGON ((-10549024.009 3419251.872, -10551095...</td>\n",
       "    </tr>\n",
       "    <tr>\n",
       "      <th>4</th>\n",
       "      <td>5</td>\n",
       "      <td>POLYGON ((-10833147.863 3476141.083, -10833400...</td>\n",
       "    </tr>\n",
       "  </tbody>\n",
       "</table>\n",
       "</div>"
      ],
      "text/plain": [
       "   district                                           geometry\n",
       "0         1  POLYGON ((-10573656.007 3743131.537, -10573658...\n",
       "1         2  POLYGON ((-10741964.954 3736587.161, -10741969...\n",
       "2         3  POLYGON ((-10573287.762 3488683.259, -10573288...\n",
       "3         4  POLYGON ((-10549024.009 3419251.872, -10551095...\n",
       "4         5  POLYGON ((-10833147.863 3476141.083, -10833400..."
      ]
     },
     "execution_count": 24,
     "metadata": {},
     "output_type": "execute_result"
    }
   ],
   "source": [
    "new_senate.head()"
   ]
  },
  {
   "cell_type": "code",
   "execution_count": 25,
   "id": "f8f2dd19",
   "metadata": {},
   "outputs": [],
   "source": [
    "def centroid_match(centroid, shapefiles):\n",
    "    rounds = 0\n",
    "    for (index, geometry) in shapefiles.iterrows():\n",
    "        if centroid.within(shapefiles['geometry'][index]):\n",
    "            district = shapefiles['district'][index]\n",
    "            return district\n",
    "        else:\n",
    "            rounds +=1\n",
    "    return  np.nan"
   ]
  },
  {
   "cell_type": "code",
   "execution_count": 26,
   "id": "950d46a6",
   "metadata": {
    "scrolled": true
   },
   "outputs": [
    {
     "name": "stderr",
     "output_type": "stream",
     "text": [
      "<ipython-input-26-0c33cce6d148>:3: SettingWithCopyWarning: \n",
      "A value is trying to be set on a copy of a slice from a DataFrame\n",
      "\n",
      "See the caveats in the documentation: https://pandas.pydata.org/pandas-docs/stable/user_guide/indexing.html#returning-a-view-versus-a-copy\n",
      "  tx_2020['SD'][index] = centroid_match(centroid, new_senate)\n",
      "<ipython-input-26-0c33cce6d148>:4: SettingWithCopyWarning: \n",
      "A value is trying to be set on a copy of a slice from a DataFrame\n",
      "\n",
      "See the caveats in the documentation: https://pandas.pydata.org/pandas-docs/stable/user_guide/indexing.html#returning-a-view-versus-a-copy\n",
      "  tx_2020['HD'][index] = centroid_match(centroid, new_house)\n"
     ]
    }
   ],
   "source": [
    "for (index, geometry) in tx_2020.iterrows():\n",
    "    centroid = tx_2020['geometry'][index].centroid\n",
    "    tx_2020['SD'][index] = centroid_match(centroid, new_senate)\n",
    "    tx_2020['HD'][index] = centroid_match(centroid, new_house)"
   ]
  },
  {
   "cell_type": "code",
   "execution_count": 27,
   "id": "30a807af",
   "metadata": {},
   "outputs": [
    {
     "data": {
      "text/html": [
       "<div>\n",
       "<style scoped>\n",
       "    .dataframe tbody tr th:only-of-type {\n",
       "        vertical-align: middle;\n",
       "    }\n",
       "\n",
       "    .dataframe tbody tr th {\n",
       "        vertical-align: top;\n",
       "    }\n",
       "\n",
       "    .dataframe thead th {\n",
       "        text-align: right;\n",
       "    }\n",
       "</style>\n",
       "<table border=\"1\" class=\"dataframe\">\n",
       "  <thead>\n",
       "    <tr style=\"text-align: right;\">\n",
       "      <th></th>\n",
       "      <th>county_key</th>\n",
       "      <th>prec_key</th>\n",
       "      <th>pre_20_r</th>\n",
       "      <th>pre_20_d</th>\n",
       "      <th>pre_20_tot</th>\n",
       "      <th>uss_20_r</th>\n",
       "      <th>uss_20_d</th>\n",
       "      <th>uss_20_tot</th>\n",
       "      <th>rrc_20_r</th>\n",
       "      <th>rrc_20_d</th>\n",
       "      <th>rrc_20_tot</th>\n",
       "      <th>SD</th>\n",
       "      <th>HD</th>\n",
       "      <th>geometry</th>\n",
       "    </tr>\n",
       "  </thead>\n",
       "  <tbody>\n",
       "    <tr>\n",
       "      <th>0</th>\n",
       "      <td>113</td>\n",
       "      <td>1131104</td>\n",
       "      <td>221</td>\n",
       "      <td>1173</td>\n",
       "      <td>1394</td>\n",
       "      <td>232</td>\n",
       "      <td>1129</td>\n",
       "      <td>1361</td>\n",
       "      <td>208</td>\n",
       "      <td>1146</td>\n",
       "      <td>1354</td>\n",
       "      <td>16.0</td>\n",
       "      <td>107.0</td>\n",
       "      <td>POLYGON ((-10758067.430 3860055.461, -10758066...</td>\n",
       "    </tr>\n",
       "    <tr>\n",
       "      <th>1</th>\n",
       "      <td>201</td>\n",
       "      <td>2010312</td>\n",
       "      <td>1124</td>\n",
       "      <td>1460</td>\n",
       "      <td>2584</td>\n",
       "      <td>1185</td>\n",
       "      <td>1336</td>\n",
       "      <td>2521</td>\n",
       "      <td>1157</td>\n",
       "      <td>1300</td>\n",
       "      <td>2457</td>\n",
       "      <td>17.0</td>\n",
       "      <td>133.0</td>\n",
       "      <td>POLYGON ((-10633117.424 3470600.303, -10633107...</td>\n",
       "    </tr>\n",
       "    <tr>\n",
       "      <th>2</th>\n",
       "      <td>351</td>\n",
       "      <td>3510003</td>\n",
       "      <td>412</td>\n",
       "      <td>28</td>\n",
       "      <td>440</td>\n",
       "      <td>395</td>\n",
       "      <td>32</td>\n",
       "      <td>427</td>\n",
       "      <td>391</td>\n",
       "      <td>29</td>\n",
       "      <td>420</td>\n",
       "      <td>3.0</td>\n",
       "      <td>11.0</td>\n",
       "      <td>POLYGON ((-10426892.168 3643737.045, -10426884...</td>\n",
       "    </tr>\n",
       "    <tr>\n",
       "      <th>3</th>\n",
       "      <td>181</td>\n",
       "      <td>1810304</td>\n",
       "      <td>1290</td>\n",
       "      <td>676</td>\n",
       "      <td>1966</td>\n",
       "      <td>1293</td>\n",
       "      <td>642</td>\n",
       "      <td>1935</td>\n",
       "      <td>1331</td>\n",
       "      <td>590</td>\n",
       "      <td>1921</td>\n",
       "      <td>30.0</td>\n",
       "      <td>62.0</td>\n",
       "      <td>POLYGON ((-10756382.944 3982191.632, -10756360...</td>\n",
       "    </tr>\n",
       "    <tr>\n",
       "      <th>4</th>\n",
       "      <td>201</td>\n",
       "      <td>2010877</td>\n",
       "      <td>1352</td>\n",
       "      <td>2554</td>\n",
       "      <td>3906</td>\n",
       "      <td>1377</td>\n",
       "      <td>2427</td>\n",
       "      <td>3804</td>\n",
       "      <td>1329</td>\n",
       "      <td>2413</td>\n",
       "      <td>3742</td>\n",
       "      <td>7.0</td>\n",
       "      <td>135.0</td>\n",
       "      <td>POLYGON ((-10659524.189 3486681.282, -10659513...</td>\n",
       "    </tr>\n",
       "  </tbody>\n",
       "</table>\n",
       "</div>"
      ],
      "text/plain": [
       "   county_key prec_key  pre_20_r  pre_20_d  pre_20_tot  uss_20_r  uss_20_d  \\\n",
       "0         113  1131104       221      1173        1394       232      1129   \n",
       "1         201  2010312      1124      1460        2584      1185      1336   \n",
       "2         351  3510003       412        28         440       395        32   \n",
       "3         181  1810304      1290       676        1966      1293       642   \n",
       "4         201  2010877      1352      2554        3906      1377      2427   \n",
       "\n",
       "   uss_20_tot  rrc_20_r  rrc_20_d  rrc_20_tot    SD     HD  \\\n",
       "0        1361       208      1146        1354  16.0  107.0   \n",
       "1        2521      1157      1300        2457  17.0  133.0   \n",
       "2         427       391        29         420   3.0   11.0   \n",
       "3        1935      1331       590        1921  30.0   62.0   \n",
       "4        3804      1329      2413        3742   7.0  135.0   \n",
       "\n",
       "                                            geometry  \n",
       "0  POLYGON ((-10758067.430 3860055.461, -10758066...  \n",
       "1  POLYGON ((-10633117.424 3470600.303, -10633107...  \n",
       "2  POLYGON ((-10426892.168 3643737.045, -10426884...  \n",
       "3  POLYGON ((-10756382.944 3982191.632, -10756360...  \n",
       "4  POLYGON ((-10659524.189 3486681.282, -10659513...  "
      ]
     },
     "execution_count": 27,
     "metadata": {},
     "output_type": "execute_result"
    }
   ],
   "source": [
    "tx_2020.head()"
   ]
  },
  {
   "cell_type": "code",
   "execution_count": 28,
   "id": "614fbe21",
   "metadata": {},
   "outputs": [
    {
     "data": {
      "text/plain": [
       "31"
      ]
     },
     "execution_count": 28,
     "metadata": {},
     "output_type": "execute_result"
    }
   ],
   "source": [
    "tx_2020['SD'].nunique()"
   ]
  },
  {
   "cell_type": "code",
   "execution_count": 29,
   "id": "6b468dda",
   "metadata": {},
   "outputs": [
    {
     "data": {
      "text/plain": [
       "True"
      ]
     },
     "execution_count": 29,
     "metadata": {},
     "output_type": "execute_result"
    }
   ],
   "source": [
    "tx_2020['HD'].isnull().values.any()"
   ]
  },
  {
   "cell_type": "code",
   "execution_count": 30,
   "id": "d6c3526b",
   "metadata": {},
   "outputs": [
    {
     "data": {
      "text/plain": [
       "2"
      ]
     },
     "execution_count": 30,
     "metadata": {},
     "output_type": "execute_result"
    }
   ],
   "source": [
    "tx_2020['HD'].isnull().values.sum()"
   ]
  },
  {
   "cell_type": "code",
   "execution_count": 31,
   "id": "aa13012a",
   "metadata": {},
   "outputs": [
    {
     "data": {
      "text/plain": [
       "0       False\n",
       "1       False\n",
       "2       False\n",
       "3       False\n",
       "4       False\n",
       "        ...  \n",
       "9009    False\n",
       "9010    False\n",
       "9011    False\n",
       "9012    False\n",
       "9013    False\n",
       "Length: 9014, dtype: bool"
      ]
     },
     "execution_count": 31,
     "metadata": {},
     "output_type": "execute_result"
    }
   ],
   "source": [
    "mask = tx_2020.isnull().any(axis = 1)\n",
    "mask"
   ]
  },
  {
   "cell_type": "code",
   "execution_count": 32,
   "id": "f5a6dba7",
   "metadata": {
    "scrolled": true
   },
   "outputs": [
    {
     "data": {
      "text/html": [
       "<div>\n",
       "<style scoped>\n",
       "    .dataframe tbody tr th:only-of-type {\n",
       "        vertical-align: middle;\n",
       "    }\n",
       "\n",
       "    .dataframe tbody tr th {\n",
       "        vertical-align: top;\n",
       "    }\n",
       "\n",
       "    .dataframe thead th {\n",
       "        text-align: right;\n",
       "    }\n",
       "</style>\n",
       "<table border=\"1\" class=\"dataframe\">\n",
       "  <thead>\n",
       "    <tr style=\"text-align: right;\">\n",
       "      <th></th>\n",
       "      <th>county_key</th>\n",
       "      <th>prec_key</th>\n",
       "      <th>pre_20_r</th>\n",
       "      <th>pre_20_d</th>\n",
       "      <th>pre_20_tot</th>\n",
       "      <th>uss_20_r</th>\n",
       "      <th>uss_20_d</th>\n",
       "      <th>uss_20_tot</th>\n",
       "      <th>rrc_20_r</th>\n",
       "      <th>rrc_20_d</th>\n",
       "      <th>rrc_20_tot</th>\n",
       "      <th>SD</th>\n",
       "      <th>HD</th>\n",
       "      <th>geometry</th>\n",
       "    </tr>\n",
       "  </thead>\n",
       "  <tbody>\n",
       "    <tr>\n",
       "      <th>746</th>\n",
       "      <td>215</td>\n",
       "      <td>2150093</td>\n",
       "      <td>65</td>\n",
       "      <td>58</td>\n",
       "      <td>123</td>\n",
       "      <td>66</td>\n",
       "      <td>49</td>\n",
       "      <td>115</td>\n",
       "      <td>60</td>\n",
       "      <td>54</td>\n",
       "      <td>114</td>\n",
       "      <td>NaN</td>\n",
       "      <td>NaN</td>\n",
       "      <td>POLYGON ((-10948491.219 3022939.392, -10948463...</td>\n",
       "    </tr>\n",
       "    <tr>\n",
       "      <th>2559</th>\n",
       "      <td>361</td>\n",
       "      <td>3610002</td>\n",
       "      <td>249</td>\n",
       "      <td>430</td>\n",
       "      <td>679</td>\n",
       "      <td>251</td>\n",
       "      <td>413</td>\n",
       "      <td>664</td>\n",
       "      <td>256</td>\n",
       "      <td>401</td>\n",
       "      <td>657</td>\n",
       "      <td>NaN</td>\n",
       "      <td>NaN</td>\n",
       "      <td>POLYGON ((-10434229.235 3516948.252, -10434224...</td>\n",
       "    </tr>\n",
       "  </tbody>\n",
       "</table>\n",
       "</div>"
      ],
      "text/plain": [
       "      county_key prec_key  pre_20_r  pre_20_d  pre_20_tot  uss_20_r  uss_20_d  \\\n",
       "746          215  2150093        65        58         123        66        49   \n",
       "2559         361  3610002       249       430         679       251       413   \n",
       "\n",
       "      uss_20_tot  rrc_20_r  rrc_20_d  rrc_20_tot  SD  HD  \\\n",
       "746          115        60        54         114 NaN NaN   \n",
       "2559         664       256       401         657 NaN NaN   \n",
       "\n",
       "                                               geometry  \n",
       "746   POLYGON ((-10948491.219 3022939.392, -10948463...  \n",
       "2559  POLYGON ((-10434229.235 3516948.252, -10434224...  "
      ]
     },
     "execution_count": 32,
     "metadata": {},
     "output_type": "execute_result"
    }
   ],
   "source": [
    "tx_2020.loc[tx_2020['SD'].isnull()]"
   ]
  },
  {
   "cell_type": "code",
   "execution_count": 33,
   "id": "7684298d",
   "metadata": {},
   "outputs": [
    {
     "data": {
      "text/html": [
       "<div>\n",
       "<style scoped>\n",
       "    .dataframe tbody tr th:only-of-type {\n",
       "        vertical-align: middle;\n",
       "    }\n",
       "\n",
       "    .dataframe tbody tr th {\n",
       "        vertical-align: top;\n",
       "    }\n",
       "\n",
       "    .dataframe thead th {\n",
       "        text-align: right;\n",
       "    }\n",
       "</style>\n",
       "<table border=\"1\" class=\"dataframe\">\n",
       "  <thead>\n",
       "    <tr style=\"text-align: right;\">\n",
       "      <th></th>\n",
       "      <th>county_key</th>\n",
       "      <th>prec_key</th>\n",
       "      <th>pre_20_r</th>\n",
       "      <th>pre_20_d</th>\n",
       "      <th>pre_20_tot</th>\n",
       "      <th>uss_20_r</th>\n",
       "      <th>uss_20_d</th>\n",
       "      <th>uss_20_tot</th>\n",
       "      <th>rrc_20_r</th>\n",
       "      <th>rrc_20_d</th>\n",
       "      <th>rrc_20_tot</th>\n",
       "      <th>SD</th>\n",
       "      <th>HD</th>\n",
       "      <th>geometry</th>\n",
       "    </tr>\n",
       "  </thead>\n",
       "  <tbody>\n",
       "    <tr>\n",
       "      <th>746</th>\n",
       "      <td>215</td>\n",
       "      <td>2150093</td>\n",
       "      <td>65</td>\n",
       "      <td>58</td>\n",
       "      <td>123</td>\n",
       "      <td>66</td>\n",
       "      <td>49</td>\n",
       "      <td>115</td>\n",
       "      <td>60</td>\n",
       "      <td>54</td>\n",
       "      <td>114</td>\n",
       "      <td>NaN</td>\n",
       "      <td>NaN</td>\n",
       "      <td>POLYGON ((-10948491.219 3022939.392, -10948463...</td>\n",
       "    </tr>\n",
       "    <tr>\n",
       "      <th>2559</th>\n",
       "      <td>361</td>\n",
       "      <td>3610002</td>\n",
       "      <td>249</td>\n",
       "      <td>430</td>\n",
       "      <td>679</td>\n",
       "      <td>251</td>\n",
       "      <td>413</td>\n",
       "      <td>664</td>\n",
       "      <td>256</td>\n",
       "      <td>401</td>\n",
       "      <td>657</td>\n",
       "      <td>NaN</td>\n",
       "      <td>NaN</td>\n",
       "      <td>POLYGON ((-10434229.235 3516948.252, -10434224...</td>\n",
       "    </tr>\n",
       "  </tbody>\n",
       "</table>\n",
       "</div>"
      ],
      "text/plain": [
       "      county_key prec_key  pre_20_r  pre_20_d  pre_20_tot  uss_20_r  uss_20_d  \\\n",
       "746          215  2150093        65        58         123        66        49   \n",
       "2559         361  3610002       249       430         679       251       413   \n",
       "\n",
       "      uss_20_tot  rrc_20_r  rrc_20_d  rrc_20_tot  SD  HD  \\\n",
       "746          115        60        54         114 NaN NaN   \n",
       "2559         664       256       401         657 NaN NaN   \n",
       "\n",
       "                                               geometry  \n",
       "746   POLYGON ((-10948491.219 3022939.392, -10948463...  \n",
       "2559  POLYGON ((-10434229.235 3516948.252, -10434224...  "
      ]
     },
     "execution_count": 33,
     "metadata": {},
     "output_type": "execute_result"
    }
   ],
   "source": [
    "tx_2020.loc[tx_2020['HD'].isnull()]"
   ]
  },
  {
   "cell_type": "code",
   "execution_count": null,
   "id": "ab098952",
   "metadata": {},
   "outputs": [],
   "source": [
    "df_miss.dropna(axis = 0, how = 'any')\n",
    "df_miss.dropna?"
   ]
  },
  {
   "cell_type": "code",
   "execution_count": 34,
   "id": "82a28287",
   "metadata": {},
   "outputs": [],
   "source": [
    "pgon1 = tx_2020['geometry'][746]\n",
    "cent1 = pgon1.centroid"
   ]
  },
  {
   "cell_type": "code",
   "execution_count": 35,
   "id": "5d865681",
   "metadata": {},
   "outputs": [],
   "source": [
    "pgon2 = tx_2020['geometry'][2559]\n",
    "cent2 = pgon2.centroid"
   ]
  },
  {
   "cell_type": "code",
   "execution_count": 36,
   "id": "78aba754",
   "metadata": {},
   "outputs": [
    {
     "data": {
      "text/plain": [
       "False"
      ]
     },
     "execution_count": 36,
     "metadata": {},
     "output_type": "execute_result"
    }
   ],
   "source": [
    "cent2.within(pgon2)"
   ]
  },
  {
   "cell_type": "code",
   "execution_count": 37,
   "id": "88f2f290",
   "metadata": {},
   "outputs": [],
   "source": [
    "#for i in range(len(new_house)):\n",
    "    #print(tx_2020['geometry'][746].within(new_house['geometry'][i]))"
   ]
  },
  {
   "cell_type": "markdown",
   "id": "ef9a2f1e",
   "metadata": {},
   "source": [
    "# Cleaning/Aggregating Election Return Data"
   ]
  },
  {
   "cell_type": "code",
   "execution_count": 38,
   "id": "39943c68",
   "metadata": {},
   "outputs": [
    {
     "ename": "SyntaxError",
     "evalue": "invalid syntax (<ipython-input-38-36248f8b9778>, line 1)",
     "output_type": "error",
     "traceback": [
      "\u001b[1;36m  File \u001b[1;32m\"<ipython-input-38-36248f8b9778>\"\u001b[1;36m, line \u001b[1;32m1\u001b[0m\n\u001b[1;33m    summary dataframe\u001b[0m\n\u001b[1;37m            ^\u001b[0m\n\u001b[1;31mSyntaxError\u001b[0m\u001b[1;31m:\u001b[0m invalid syntax\n"
     ]
    }
   ],
   "source": [
    "summary dataframe\n",
    "181 rows - one for each district\n",
    "6 columns - rpct, dpct for each race in 2020"
   ]
  },
  {
   "cell_type": "code",
   "execution_count": null,
   "id": "6e0f5e55",
   "metadata": {},
   "outputs": [],
   "source": [
    "dv = list(or_2020.groupby('HD')['PRE_DVOTES'].sum())\n",
    "rv = list(or_2020.groupby('HD')['PRE_RVOTES'].sum())\n",
    "tv = list(or_2020.groupby('HD')['PRE_TOTALVOTES'].sum())"
   ]
  },
  {
   "cell_type": "code",
   "execution_count": null,
   "id": "fa617094",
   "metadata": {},
   "outputs": [],
   "source": [
    "d = {'DV':dv,'RV':rv, 'TV': tv}\n",
    "\n",
    "df = pd.DataFrame(d)"
   ]
  },
  {
   "cell_type": "code",
   "execution_count": null,
   "id": "8a1735dd",
   "metadata": {},
   "outputs": [],
   "source": [
    "\n",
    "basemap = new_senate.plot(color = 'tan', edgecolor = 'black', figsize = (15, 12))\n",
    "\n",
    "# Plot proportional symbols on top of basemap\n",
    "tx_2020['geometry'].centroid.plot(ax = basemap, color = \"red\", edgecolor = \"darkgray\", figsize = (15, 12))\n",
    "plt.show()"
   ]
  },
  {
   "cell_type": "markdown",
   "id": "f6728123",
   "metadata": {},
   "source": [
    "# Visualizations for presentation"
   ]
  },
  {
   "cell_type": "code",
   "execution_count": null,
   "id": "25b3cbe1",
   "metadata": {},
   "outputs": [],
   "source": [
    "# creating two subplots to visualize Texas State Senate\n",
    "fig, axs = plt.subplots(1, 2, figsize=(15, 12))\n",
    "\n",
    "# name each subplot\n",
    "ax1, ax2 = axs\n",
    "\n",
    "# old state senate map on the left\n",
    "old_senate.plot( color = 'lightblue',\n",
    "            edgecolor='black',\n",
    "            linewidth=.6, \n",
    "            alpha=0.75, \n",
    "            ax=ax1, # this assigns the map to the subplot,\n",
    "            legend=True\n",
    "           )\n",
    "\n",
    "ax1.axis(\"off\")\n",
    "ax1.set_title(\"Texas State Senate Districts 2012-2021\")\n",
    "\n",
    "# new state senate map on the right\n",
    "new_senate.plot( color ='lightblue',\n",
    "            edgecolor='black', \n",
    "            linewidth=.6, \n",
    "            alpha=0.75, \n",
    "            ax=ax2, # this assigns the map to the subplot\n",
    "            legend=True\n",
    "           )\n",
    "\n",
    "ax2.axis(\"off\")\n",
    "ax2.set_title(\"Texas State Senate Districts 2022\")"
   ]
  },
  {
   "cell_type": "code",
   "execution_count": null,
   "id": "4b44c647",
   "metadata": {},
   "outputs": [],
   "source": [
    "# creating two subplots to visualize Texas State House\n",
    "fig, axs = plt.subplots(1, 2, figsize=(15, 12))\n",
    "\n",
    "# name each subplot\n",
    "ax1, ax2 = axs\n",
    "\n",
    "# old state house map on the left\n",
    "old_house.plot( color = 'purple',\n",
    "            edgecolor='black',\n",
    "            linewidth=.6, \n",
    "            alpha=0.75, \n",
    "            ax=ax1, # this assigns the map to the subplot,\n",
    "            legend=True\n",
    "           )\n",
    "\n",
    "ax1.axis(\"off\")\n",
    "ax1.set_title(\"Texas State House Districts 2019-2021\")\n",
    "\n",
    "# new state house map on the right\n",
    "new_house.plot( color ='purple',\n",
    "            edgecolor='black', \n",
    "            linewidth=.6, \n",
    "            alpha=0.75, \n",
    "            ax=ax2, # this assigns the map to the subplot\n",
    "            legend=True\n",
    "           )\n",
    "\n",
    "ax2.axis(\"off\")\n",
    "ax2.set_title(\"Texas State House Districts 2022\")"
   ]
  },
  {
   "cell_type": "code",
   "execution_count": null,
   "id": "bfd993ec",
   "metadata": {},
   "outputs": [],
   "source": [
    "def precinct_match(elecreturns, new_sen, new_house):\n",
    "    for (index) in elecreturns.iterrows():\n",
    "        prec_geom = elecreturns['geometry'][index]\n",
    "        for \n",
    "    \n",
    "    \n",
    "    \n",
    "    \n",
    "    \n",
    " '''\n",
    " \n",
    "def precint_match(elecreturns, new_senate, new_house):\n",
    "     for index in new_senate.iterrows():\n",
    "         geoms= new_senate['geometry'][index]\n",
    "         dist = 'SD' + str(index)\n",
    "         for i in range(len(elecreturn)):\n",
    "             if elecreturns['geometry'][index].within(geom):\n",
    "                 elecreturns['SDD'] = dist\n",
    "                 pass\n",
    "\n",
    "            \n",
    " \n",
    " \n",
    " '''   \n",
    "    \n",
    "    \n",
    "    \n",
    "    rounds = 0\n",
    "    for (index, geometry) in shapefiles.iterrows():\n",
    "        if centroid.within(shapefiles['geometry'][index]):\n",
    "            district = shapefiles['district'][index]\n",
    "            return district\n",
    "        else:\n",
    "            rounds +=1\n",
    "    return  np.nan\n",
    "\n",
    "\n",
    "\n",
    "\n",
    "\n",
    "\n",
    "for (index, geometry) in tx_2020.iterrows():\n",
    "    centroid = tx_2020['geometry'][index].centroid\n",
    "    tx_2020['SD'][index] = centroid_match(centroid, new_senate)\n",
    "    tx_2020['HD'][index] = centroid_match(centroid, new_house)"
   ]
  },
  {
   "cell_type": "code",
   "execution_count": null,
   "id": "e8d441d7",
   "metadata": {},
   "outputs": [],
   "source": [
    "# Initialize a blank dataframe for aggregate percentages of two-party vote share\n",
    "voteshare = pd.DataFrame(columns = ['year','race','r_vote','total_vote','r_pct'])\n",
    "#Creating a list of election prefixes\n",
    "elec_list = ['pre_16', 'rrc_16',\n",
    "             'uss_18', 'gov_18', 'ltg_18', 'atg_18', 'com_18','lan_18', 'agr_18', 'rrc_18',\n",
    "             'pre_20','uss_20', 'rrc_20'] \n",
    "\n",
    "#Helper function that extracts aggregate vote tally and percentage for a given race\n",
    "def find_pct(elecret, prefix):\n",
    "    year = str(prefix)[-2:]\n",
    "    race = str(prefix)[:3]\n",
    "    rep_votes = elecret[str(prefix) + '_r'].sum()\n",
    "    tot_votes = elecret[str(prefix) + '_tot'].sum()\n",
    "    r_pct = 100 * rep_votes/tot_votes\n",
    "    return year, race, rep_votes, tot_votes, r_pct\n",
    "\n",
    "# Matching elections to the appropriate election return dataset\n",
    "for i, item in enumerate(elec_list):\n",
    "    if '16' in item:\n",
    "        #print(item + ' uses 2016 dataset')\n",
    "        data = tx_2016\n",
    "    elif '18' in item:\n",
    "        #print(item + ' uses 2018 datset')\n",
    "        data = tx_2018\n",
    "    else:\n",
    "        #print(item + 'uses 2020 dataset')\n",
    "        data = tx_2020\n",
    "    voteshare.loc[i] = find_pct(data, item) #appending each election to the voteshares dataframe with calculated vote tally"
   ]
  }
 ],
 "metadata": {
  "kernelspec": {
   "display_name": "Python 3",
   "language": "python",
   "name": "python3"
  },
  "language_info": {
   "codemirror_mode": {
    "name": "ipython",
    "version": 3
   },
   "file_extension": ".py",
   "mimetype": "text/x-python",
   "name": "python",
   "nbconvert_exporter": "python",
   "pygments_lexer": "ipython3",
   "version": "3.8.8"
  }
 },
 "nbformat": 4,
 "nbformat_minor": 5
}
